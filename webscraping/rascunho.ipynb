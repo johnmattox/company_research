{
 "cells": [
  {
   "cell_type": "code",
   "execution_count": 142,
   "metadata": {
    "collapsed": true
   },
   "outputs": [],
   "source": [
    "import pandas as pd\n",
    "import numpy as np\n",
    "from urllib.request import urlopen, Request\n",
    "from bs4 import BeautifulSoup as soup\n",
    "import time, pickle\n",
    "\n",
    "import datetime, requests\n",
    "\n",
    "headers = {'User-Agent': 'Mozilla/5.0 (Windows NT 6.1) AppleWebKit/537.36 (KHTML, like Gecko) Chrome/41.0.2228.0 Safari/537.3'}\n",
    "current_date = datetime.datetime.now()"
   ]
  },
  {
   "cell_type": "markdown",
   "metadata": {},
   "source": [
    "#### URLs"
   ]
  },
  {
   "cell_type": "code",
   "execution_count": 47,
   "metadata": {
    "collapsed": true
   },
   "outputs": [],
   "source": [
    "url_listagem_empresas = \"http://www.b3.com.br/pt_br/produtos-e-servicos/negociacao/renda-variavel/empresas-listadas.htm\"\n",
    "url_search_empresa = \"http://bvmf.bmfbovespa.com.br/pt-br/mercados/acoes/empresas/ExecutaAcaoConsultaInfoEmp.asp?CodCVM={CVM_CODE}&ViewDoc=0#a\""
   ]
  },
  {
   "cell_type": "markdown",
   "metadata": {},
   "source": [
    "### Get available tickers"
   ]
  },
  {
   "cell_type": "code",
   "execution_count": 173,
   "metadata": {
    "collapsed": true
   },
   "outputs": [],
   "source": [
    "import json\n",
    "import requests\n",
    "from bs4 import BeautifulSoup"
   ]
  },
  {
   "cell_type": "code",
   "execution_count": 178,
   "metadata": {
    "collapsed": true
   },
   "outputs": [],
   "source": [
    "class B3EmpresasScraper(object):\n",
    "    def __init__(self):\n",
    "        self.search_request = {\"State\":{},\n",
    "                               \"TabState\":{\"ctl00_contentPlaceHolderConteudo_tabMenuEmpresaListada_tabNome\":{\"Selected\":True}}}\n",
    "    def scrape(self):\n",
    "        jobs = self.scrape_jobs()\n",
    "        for job in jobs:\n",
    "            print(job)\n",
    "                \n",
    "    def scrape_jobs(self, max_pages=3):\n",
    "        jobs = []\n",
    "#         pageno = 0\n",
    "#         self.search_request['pageNumber'] = pageno\n",
    "\n",
    "#         while pageno < max_pages:\n",
    "        payload = { \n",
    "            '__EVENTTARGET': 'ctl00:contentPlaceHolderConteudo:BuscaNomeEmpresa1:btnTodas',\n",
    "            '__VIEWSTATE': '/wEPDwULLTE2OTg3NzU5NjgPZBYCZg9kFgQCAQ9kFgICEA8WAh4EVGV4dAUIbWVyY2Fkb3NkAgMPZBYCAgEPZBYEAgEPZBYCAgEPZBYGAgUPDxYCHwAFCjIxLzExLzIwMTlkZAIJDw8WAh8ABQUyM2gwMGRkAhEPDxYCHgVDb3VudAIEZBYCAgMPDxYGHgJJRAUacHZ3QnVzY2FBbm9MaXN0YWdlbUVtcHJlc2EeB1Rvb2xUaXBlHgdWaXNpYmxlaGQWAgIBD2QWAgIBDxBkZBYAZAIDDw9kFgIeB29uY2xpY2sFHGhpc3RvcnkuYmFjaygpOyByZXR1cm4gZmFsc2VkGAYFPGN0bDAwJGNvbnRlbnRQbGFjZUhvbGRlckNvbnRldWRvJEJ1c2NhU2V0b3JFbXByZXNhMSRncmRTZXRvcg8UKwACZBcAZAVBY3RsMDAkY29udGVudFBsYWNlSG9sZGVyQ29udGV1ZG8kQnVzY2FTZWdtZW50b0VtcHJlc2ExJGdyZEVtcHJlc2EPFCsAAmQXAGQFHl9fQ29udHJvbHNSZXF1aXJlUG9zdEJhY2tLZXlfXxYIBT1jdGwwMCRjb250ZW50UGxhY2VIb2xkZXJDb250ZXVkbyRCdXNjYU5vbWVFbXByZXNhMSRncmRFbXByZXNhBTxjdGwwMCRjb250ZW50UGxhY2VIb2xkZXJDb250ZXVkbyRCdXNjYVNldG9yRW1wcmVzYTEkZ3JkU2V0b3IFPmN0bDAwJGNvbnRlbnRQbGFjZUhvbGRlckNvbnRldWRvJEJ1c2NhU2V0b3JFbXByZXNhMSRncmRFbXByZXNhBUFjdGwwMCRjb250ZW50UGxhY2VIb2xkZXJDb250ZXVkbyRCdXNjYVNlZ21lbnRvRW1wcmVzYTEkZ3JkRW1wcmVzYQVEY3RsMDAkY29udGVudFBsYWNlSG9sZGVyQ29udGV1ZG8kQnVzY2FBbm9MaXN0YWdlbUVtcHJlc2ExJGdyZEVtcHJlc2EFL2N0bDAwJGNvbnRlbnRQbGFjZUhvbGRlckNvbnRldWRvJEFqYXhQYW5lbEJ1c2NhBStjdGwwMCRjb250ZW50UGxhY2VIb2xkZXJDb250ZXVkbyRtcGdQYWdpbmFzBTZjdGwwMCRjb250ZW50UGxhY2VIb2xkZXJDb250ZXVkbyR0YWJNZW51RW1wcmVzYUxpc3RhZGEFRGN0bDAwJGNvbnRlbnRQbGFjZUhvbGRlckNvbnRldWRvJEJ1c2NhQW5vTGlzdGFnZW1FbXByZXNhMSRncmRFbXByZXNhDxQrAAJkFwBkBT5jdGwwMCRjb250ZW50UGxhY2VIb2xkZXJDb250ZXVkbyRCdXNjYVNldG9yRW1wcmVzYTEkZ3JkRW1wcmVzYQ8UKwACZBcAZAU9Y3RsMDAkY29udGVudFBsYWNlSG9sZGVyQ29udGV1ZG8kQnVzY2FOb21lRW1wcmVzYTEkZ3JkRW1wcmVzYQ8UKwACZBcAZILXCPCm5ktP5zeUM9V5d8CeqVJU',\n",
    "            '__VIEWSTATEGENERATOR': '9CFBB4E5',\n",
    "            '__EVENTVALIDATION': '/wEWKQKQw/XtAQKrqYeWCwL85ODVCQLh+8LADwKyt5yADgKXzv7qAwLoidiqAgLNoLqVCALuyLaBBALT35jsCQKkm/KrCAKJstSWDgLa7a3WDAK/hJDBAgKQwOmAAQL11svrBgL2pYL/BwLbvOTpDQKs+L2pDAKRj6CUAgLiyvlTAsfh274GApidtf4EAv2zl+kKAp7ck9UGAoPz9b8MAtSuz/8KApb/x9cCAvuVqsIIAszRg4IHArHo5ewMAoKkv6wLAue6oZcBArj2+tYPAp2N3cEFAr612a0BAqPMu5gHAqqynsAFAvrzvPwMAr/S5NkCArSz5PIOQBNPwVxP46TJ4TGUiUDReAcNROw=',\n",
    "            'ctl00_contentPlaceHolderConteudo_AjaxPanelBuscaPostDataValue': 'ctl00_contentPlaceHolderConteudo_AjaxPanelBusca,ActiveElement,ctl00_contentPlaceHolderConteudo_BuscaNomeEmpresa1_btnTodas;',\n",
    "            'ctl00$contentPlaceHolderConteudo$tabMenuEmpresaListada': json.dumps(self.search_request),\n",
    "            'ctl00$contentPlaceHolderConteudo$mpgPaginas_Selected' : '0',\n",
    "            'RadAJAXControlID': 'ctl00_contentPlaceHolderConteudo_AjaxPanelBusca',\n",
    "            'httprequest': 'true'\n",
    "        }\n",
    "\n",
    "        r = requests.post(\n",
    "            url='http://bvmf.bmfbovespa.com.br/cias-listadas/empresas-listadas/BuscaEmpresaListada.aspx?idioma=pt-br',\n",
    "            data=payload,\n",
    "            headers={\n",
    "                'X-Requested-With': 'HttpRequest'\n",
    "            }\n",
    "        )\n",
    "\n",
    "#         s = BeautifulSoup(r.text)\n",
    "#             if not s.requisition:\n",
    "#                 break\n",
    "\n",
    "#             for r in s.findAll('ctl00_contentPlaceHolderConteudo_tabMenuEmpresaListada_tabNome'):\n",
    "#                 job = {}\n",
    "#                 job['jobid'] = r.jobid.text\n",
    "#                 job['title'] = r.postingtitle and \\\n",
    "#                     r.postingtitle.text or r.retailpostingtitle.text\n",
    "#                 job['location'] = r.location.text\n",
    "#                 jobs.append(job)\n",
    "\n",
    "#             # Next page\n",
    "#             pageno += 1\n",
    "#             self.search_request['pageNumber'] = pageno\n",
    "\n",
    "        return r"
   ]
  },
  {
   "cell_type": "code",
   "execution_count": 207,
   "metadata": {
    "scrolled": true
   },
   "outputs": [],
   "source": [
    "scraper = B3EmpresasScraper()\n",
    "pg = scraper.scrape_jobs()\n",
    "raw_soup = soup(pg.text, \"html.parser\")\n",
    "raw_companies = raw_soup.find('tbody').findAll('tr')"
   ]
  },
  {
   "cell_type": "code",
   "execution_count": 249,
   "metadata": {
    "collapsed": true
   },
   "outputs": [],
   "source": [
    "empresas_listadas = {cvm_code:{'name':n,'segment':s} for (cvm_code,n,s) in zip ([int(c.findAll('a')[0]['href'].replace('ResumoEmpresaPrincipal.aspx?codigoCvm=','')) for c in raw_companies],\n",
    "                                                                  [c.findAll('a')[0].text.strip() for c in raw_companies],\n",
    "                                                                  [c.findAll('td')[2].text.strip() for c in raw_companies])}"
   ]
  },
  {
   "cell_type": "code",
   "execution_count": 253,
   "metadata": {},
   "outputs": [
    {
     "data": {
      "text/plain": [
       "422"
      ]
     },
     "execution_count": 253,
     "metadata": {},
     "output_type": "execute_result"
    }
   ],
   "source": []
  }
 ],
 "metadata": {
  "kernelspec": {
   "display_name": "Python 3",
   "language": "python",
   "name": "python3"
  },
  "language_info": {
   "codemirror_mode": {
    "name": "ipython",
    "version": 3
   },
   "file_extension": ".py",
   "mimetype": "text/x-python",
   "name": "python",
   "nbconvert_exporter": "python",
   "pygments_lexer": "ipython3",
   "version": "3.6.3"
  }
 },
 "nbformat": 4,
 "nbformat_minor": 2
}
